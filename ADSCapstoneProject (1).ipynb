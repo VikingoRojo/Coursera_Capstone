{
 "cells": [
  {
   "cell_type": "markdown",
   "metadata": {},
   "source": [
    "## Applied Data Science Capstone Project - The Battle of Neighborhoods\n",
    "\n"
   ]
  },
  {
   "cell_type": "markdown",
   "metadata": {},
   "source": [
    "### Business Problem"
   ]
  },
  {
   "cell_type": "markdown",
   "metadata": {},
   "source": [
    "   The city of Charlotte, North Carolina has seen tremendous economic and population growth over the past 20 years.  Between 2004 and 2014, Charlotte was ranked as the country's fastest-growing metro area, with 888,000 new residents. According to U.S. Census data, from 2005 to 2015, Charlotte topped the U.S. in millennial population growth. It is the second-largest city in the southeastern United States, just behind Jacksonville, Florida. Additionally, it is currently the third-fastest-growing major city in the United States, per the Seattle Times.  A group of investors is considering adding a quick-service empanada franchise to the Charlotte region and needs help determining which of Charlotte's 199 bustling neighborhoods is the best fit.  The ideal location would provide a consistent mix of traffic to the restaurant from the lunch hour business crowd, working parents on the go in the early evening, as well as late-night bar hoppers.  Due to previous lack luster results from investing in a different southeastern city, this investment group is keen on a successful launch."
   ]
  },
  {
   "cell_type": "markdown",
   "metadata": {},
   "source": [
    "### Data"
   ]
  },
  {
   "cell_type": "markdown",
   "metadata": {},
   "source": [
    "This analysis will include location data gathered via the Foursquare API to determine the ideal neighborhood in which to launch the empanada restaurant.  The neighborhoods will be clustered and subsequently evaluated based on their proximity to corporate office buildings, family dwellings, gyms, nightlife and other Latin American-style restaurants. Because the data available in Foursquare does not include neighborhood specific details, it will be analyzed based on venue categories by postal code first, followed by finding the 10 most common venues per postal code, then compared alongside a popular neighborhood crowdsourcing site, hoodmaps.com."
   ]
  }
 ],
 "metadata": {
  "kernelspec": {
   "display_name": "Python 3.7 with Spark",
   "language": "python3",
   "name": "python37"
  },
  "language_info": {
   "codemirror_mode": {
    "name": "ipython",
    "version": 3
   },
   "file_extension": ".py",
   "mimetype": "text/x-python",
   "name": "python",
   "nbconvert_exporter": "python",
   "pygments_lexer": "ipython3",
   "version": "3.7.9"
  }
 },
 "nbformat": 4,
 "nbformat_minor": 4
}
